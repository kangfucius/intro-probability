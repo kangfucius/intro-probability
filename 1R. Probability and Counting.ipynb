{
 "cells": [
  {
   "cell_type": "markdown",
   "id": "imposed-celtic",
   "metadata": {},
   "source": [
    "# Chapter 1. Probability and Counting\n",
    "## 1.8 Introduction to R"
   ]
  },
  {
   "cell_type": "markdown",
   "id": "improving-bearing",
   "metadata": {},
   "source": [
    "### Vectors\n",
    "To create a vector, we can use the _c_ command (to _combine_ or _concatenate_)"
   ]
  },
  {
   "cell_type": "code",
   "execution_count": 1,
   "id": "senior-verification",
   "metadata": {},
   "outputs": [
    {
     "data": {
      "text/html": [
       "23"
      ],
      "text/latex": [
       "23"
      ],
      "text/markdown": [
       "23"
      ],
      "text/plain": [
       "[1] 23"
      ]
     },
     "metadata": {},
     "output_type": "display_data"
    }
   ],
   "source": [
    "v <- c(3, 1, 4, 1, 5, 9)\n",
    "sum(v)"
   ]
  },
  {
   "cell_type": "code",
   "execution_count": 2,
   "id": "lasting-prison",
   "metadata": {},
   "outputs": [
    {
     "data": {
      "text/html": [
       "9"
      ],
      "text/latex": [
       "9"
      ],
      "text/markdown": [
       "9"
      ],
      "text/plain": [
       "[1] 9"
      ]
     },
     "metadata": {},
     "output_type": "display_data"
    }
   ],
   "source": [
    "max(v)"
   ]
  },
  {
   "cell_type": "markdown",
   "id": "incident-special",
   "metadata": {},
   "source": [
    "To access the _i_th entry of a vector _v_, use _v[i]_. _i_ in turn can also be a vector."
   ]
  },
  {
   "cell_type": "code",
   "execution_count": 3,
   "id": "demanding-police",
   "metadata": {},
   "outputs": [
    {
     "data": {
      "text/html": [
       "<style>\n",
       ".list-inline {list-style: none; margin:0; padding: 0}\n",
       ".list-inline>li {display: inline-block}\n",
       ".list-inline>li:not(:last-child)::after {content: \"\\00b7\"; padding: 0 .5ex}\n",
       "</style>\n",
       "<ol class=list-inline><li>3</li><li>4</li><li>5</li></ol>\n"
      ],
      "text/latex": [
       "\\begin{enumerate*}\n",
       "\\item 3\n",
       "\\item 4\n",
       "\\item 5\n",
       "\\end{enumerate*}\n"
      ],
      "text/markdown": [
       "1. 3\n",
       "2. 4\n",
       "3. 5\n",
       "\n",
       "\n"
      ],
      "text/plain": [
       "[1] 3 4 5"
      ]
     },
     "metadata": {},
     "output_type": "display_data"
    }
   ],
   "source": [
    "v[c(1, 3, 5)] # access the 1st, 3rd, and 5th elements of v"
   ]
  },
  {
   "cell_type": "markdown",
   "id": "stylish-interface",
   "metadata": {},
   "source": [
    "Specify elements to exclude by - operator"
   ]
  },
  {
   "cell_type": "code",
   "execution_count": 4,
   "id": "modular-dodge",
   "metadata": {},
   "outputs": [
    {
     "data": {
      "text/html": [
       "<style>\n",
       ".list-inline {list-style: none; margin:0; padding: 0}\n",
       ".list-inline>li {display: inline-block}\n",
       ".list-inline>li:not(:last-child)::after {content: \"\\00b7\"; padding: 0 .5ex}\n",
       "</style>\n",
       "<ol class=list-inline><li>3</li><li>5</li><li>9</li></ol>\n"
      ],
      "text/latex": [
       "\\begin{enumerate*}\n",
       "\\item 3\n",
       "\\item 5\n",
       "\\item 9\n",
       "\\end{enumerate*}\n"
      ],
      "text/markdown": [
       "1. 3\n",
       "2. 5\n",
       "3. 9\n",
       "\n",
       "\n"
      ],
      "text/plain": [
       "[1] 3 5 9"
      ]
     },
     "metadata": {},
     "output_type": "display_data"
    }
   ],
   "source": [
    "v[-(2:4)]  # exclude 2nd to 4th elements"
   ]
  },
  {
   "cell_type": "markdown",
   "id": "lovely-talent",
   "metadata": {},
   "source": [
    "### Component-wise operations\n",
    "Many operations in R are interpreted _component-wise_, e.. 1/(1:10)^2 is a compact way to get the vector $(1, \\frac{1}{2^2}, \\frac{1}{3^2}, \\cdots, \\frac{1}{10^2})$"
   ]
  },
  {
   "cell_type": "code",
   "execution_count": 5,
   "id": "least-transition",
   "metadata": {},
   "outputs": [
    {
     "data": {
      "text/html": [
       "<style>\n",
       ".list-inline {list-style: none; margin:0; padding: 0}\n",
       ".list-inline>li {display: inline-block}\n",
       ".list-inline>li:not(:last-child)::after {content: \"\\00b7\"; padding: 0 .5ex}\n",
       "</style>\n",
       "<ol class=list-inline><li>1</li><li>0.25</li><li>0.111111111111111</li><li>0.0625</li><li>0.04</li><li>0.0277777777777778</li><li>0.0204081632653061</li><li>0.015625</li><li>0.0123456790123457</li><li>0.01</li></ol>\n"
      ],
      "text/latex": [
       "\\begin{enumerate*}\n",
       "\\item 1\n",
       "\\item 0.25\n",
       "\\item 0.111111111111111\n",
       "\\item 0.0625\n",
       "\\item 0.04\n",
       "\\item 0.0277777777777778\n",
       "\\item 0.0204081632653061\n",
       "\\item 0.015625\n",
       "\\item 0.0123456790123457\n",
       "\\item 0.01\n",
       "\\end{enumerate*}\n"
      ],
      "text/markdown": [
       "1. 1\n",
       "2. 0.25\n",
       "3. 0.111111111111111\n",
       "4. 0.0625\n",
       "5. 0.04\n",
       "6. 0.0277777777777778\n",
       "7. 0.0204081632653061\n",
       "8. 0.015625\n",
       "9. 0.0123456790123457\n",
       "10. 0.01\n",
       "\n",
       "\n"
      ],
      "text/plain": [
       " [1] 1.00000000 0.25000000 0.11111111 0.06250000 0.04000000 0.02777778\n",
       " [7] 0.02040816 0.01562500 0.01234568 0.01000000"
      ]
     },
     "metadata": {},
     "output_type": "display_data"
    }
   ],
   "source": [
    "1/(1:10)^2"
   ]
  },
  {
   "cell_type": "markdown",
   "id": "attended-contract",
   "metadata": {},
   "source": [
    "### Factorial and binomial coefficients\n",
    "We can compute $n!$ using _factorial(n)_ and $\\binom{n}{k}$ using _choose(n,k)_. "
   ]
  },
  {
   "cell_type": "code",
   "execution_count": 6,
   "id": "minimal-information",
   "metadata": {},
   "outputs": [
    {
     "data": {
      "text/html": [
       "1.71122452428147e+98"
      ],
      "text/latex": [
       "1.71122452428147e+98"
      ],
      "text/markdown": [
       "1.71122452428147e+98"
      ],
      "text/plain": [
       "[1] 1.711225e+98"
      ]
     },
     "metadata": {},
     "output_type": "display_data"
    }
   ],
   "source": [
    "factorial(69)"
   ]
  },
  {
   "cell_type": "code",
   "execution_count": 7,
   "id": "fabulous-shannon",
   "metadata": {},
   "outputs": [
    {
     "data": {
      "text/html": [
       "6"
      ],
      "text/latex": [
       "6"
      ],
      "text/markdown": [
       "6"
      ],
      "text/plain": [
       "[1] 6"
      ]
     },
     "metadata": {},
     "output_type": "display_data"
    }
   ],
   "source": [
    "choose(4,2)"
   ]
  },
  {
   "cell_type": "markdown",
   "id": "perfect-substance",
   "metadata": {},
   "source": [
    "### Sampling and simulation\n",
    "The _sample_ command is a useful way of drawing random samples in _R_, e.g. _n <- 10; k <- 5; sample(n,k)_ generates an ordered random sample of 5 of the numbers from 1 to 10, without replacement, and with equal probabilitie given to each number. To sample with replacment instead, just ad in _replace = TRUE_:"
   ]
  },
  {
   "cell_type": "code",
   "execution_count": 8,
   "id": "binary-boost",
   "metadata": {},
   "outputs": [
    {
     "data": {
      "text/html": [
       "<style>\n",
       ".list-inline {list-style: none; margin:0; padding: 0}\n",
       ".list-inline>li {display: inline-block}\n",
       ".list-inline>li:not(:last-child)::after {content: \"\\00b7\"; padding: 0 .5ex}\n",
       "</style>\n",
       "<ol class=list-inline><li>4</li><li>1</li><li>2</li><li>3</li><li>5</li></ol>\n"
      ],
      "text/latex": [
       "\\begin{enumerate*}\n",
       "\\item 4\n",
       "\\item 1\n",
       "\\item 2\n",
       "\\item 3\n",
       "\\item 5\n",
       "\\end{enumerate*}\n"
      ],
      "text/markdown": [
       "1. 4\n",
       "2. 1\n",
       "3. 2\n",
       "4. 3\n",
       "5. 5\n",
       "\n",
       "\n"
      ],
      "text/plain": [
       "[1] 4 1 2 3 5"
      ]
     },
     "metadata": {},
     "output_type": "display_data"
    }
   ],
   "source": [
    "n <- 10; k <- 5\n",
    "sample(n, k)"
   ]
  },
  {
   "cell_type": "code",
   "execution_count": 9,
   "id": "silent-cherry",
   "metadata": {},
   "outputs": [
    {
     "data": {
      "text/html": [
       "<style>\n",
       ".list-inline {list-style: none; margin:0; padding: 0}\n",
       ".list-inline>li {display: inline-block}\n",
       ".list-inline>li:not(:last-child)::after {content: \"\\00b7\"; padding: 0 .5ex}\n",
       "</style>\n",
       "<ol class=list-inline><li>9</li><li>8</li><li>4</li><li>6</li><li>4</li></ol>\n"
      ],
      "text/latex": [
       "\\begin{enumerate*}\n",
       "\\item 9\n",
       "\\item 8\n",
       "\\item 4\n",
       "\\item 6\n",
       "\\item 4\n",
       "\\end{enumerate*}\n"
      ],
      "text/markdown": [
       "1. 9\n",
       "2. 8\n",
       "3. 4\n",
       "4. 6\n",
       "5. 4\n",
       "\n",
       "\n"
      ],
      "text/plain": [
       "[1] 9 8 4 6 4"
      ]
     },
     "metadata": {},
     "output_type": "display_data"
    }
   ],
   "source": [
    "sample(n, k, replace=TRUE)"
   ]
  },
  {
   "cell_type": "markdown",
   "id": "continental-samoa",
   "metadata": {},
   "source": [
    "sample from non-numeric vector, e.g. _letters_ (built-in vectors consisting of 26 lowercase letters in the English alphabet)"
   ]
  },
  {
   "cell_type": "code",
   "execution_count": 10,
   "id": "secure-leather",
   "metadata": {},
   "outputs": [
    {
     "data": {
      "text/html": [
       "<style>\n",
       ".list-inline {list-style: none; margin:0; padding: 0}\n",
       ".list-inline>li {display: inline-block}\n",
       ".list-inline>li:not(:last-child)::after {content: \"\\00b7\"; padding: 0 .5ex}\n",
       "</style>\n",
       "<ol class=list-inline><li>'k'</li><li>'m'</li><li>'n'</li><li>'g'</li><li>'a'</li><li>'c'</li><li>'o'</li></ol>\n"
      ],
      "text/latex": [
       "\\begin{enumerate*}\n",
       "\\item 'k'\n",
       "\\item 'm'\n",
       "\\item 'n'\n",
       "\\item 'g'\n",
       "\\item 'a'\n",
       "\\item 'c'\n",
       "\\item 'o'\n",
       "\\end{enumerate*}\n"
      ],
      "text/markdown": [
       "1. 'k'\n",
       "2. 'm'\n",
       "3. 'n'\n",
       "4. 'g'\n",
       "5. 'a'\n",
       "6. 'c'\n",
       "7. 'o'\n",
       "\n",
       "\n"
      ],
      "text/plain": [
       "[1] \"k\" \"m\" \"n\" \"g\" \"a\" \"c\" \"o\""
      ]
     },
     "metadata": {},
     "output_type": "display_data"
    }
   ],
   "source": [
    "sample(letters, 7)"
   ]
  },
  {
   "cell_type": "markdown",
   "id": "unusual-brief",
   "metadata": {},
   "source": [
    "specify general probabilities in a given sample, e.g. sample 3 numbers between 1 and 4, with replacement, and with \n",
    "probabilities given by the tuple(0.1, 0.2, 0.3, 0.4):"
   ]
  },
  {
   "cell_type": "code",
   "execution_count": 25,
   "id": "acoustic-christianity",
   "metadata": {},
   "outputs": [
    {
     "data": {
      "text/html": [
       "<style>\n",
       ".list-inline {list-style: none; margin:0; padding: 0}\n",
       ".list-inline>li {display: inline-block}\n",
       ".list-inline>li:not(:last-child)::after {content: \"\\00b7\"; padding: 0 .5ex}\n",
       "</style>\n",
       "<ol class=list-inline><li>3</li><li>3</li><li>1</li></ol>\n"
      ],
      "text/latex": [
       "\\begin{enumerate*}\n",
       "\\item 3\n",
       "\\item 3\n",
       "\\item 1\n",
       "\\end{enumerate*}\n"
      ],
      "text/markdown": [
       "1. 3\n",
       "2. 3\n",
       "3. 1\n",
       "\n",
       "\n"
      ],
      "text/plain": [
       "[1] 3 3 1"
      ]
     },
     "metadata": {},
     "output_type": "display_data"
    }
   ],
   "source": [
    "sample(4, 3, replace=TRUE, prob=c(0.1, 0.2, 0.3, 0.4))"
   ]
  },
  {
   "cell_type": "markdown",
   "id": "composed-reynolds",
   "metadata": {},
   "source": [
    "### Example 1.6.4 de Montmort's matching problem\n",
    "Consider a well-shuffled deck of $n$ cards, labelled $1$ through $n$. You flip over the cards one by one, saying the numbers $1$ through $n$ as you do so. You win the ame if, at some point, the number you say aloud is the same as the number on the card being flipped over (e.g. if the $7$th card in the deck has the label $7$). What is the probability of winning?"
   ]
  },
  {
   "cell_type": "markdown",
   "id": "julian-transportation",
   "metadata": {},
   "source": [
    "_Solution:_\n",
    "Let $A_{i}$ be the event that the $i$th card in the deck has number $i$ written on it. We are interested in the probability of the union $A_{i} \\cup \\ldots \\cup A_{n}$: as long as at least one of the cards has a number matching its position in the deck, you will win the game. (An ordering for which you lose is called a _derangement_.)\n",
    "\n",
    "To find the probabiliity of the union, we will use **_inclusion-exclusion_**. First,\n",
    "\n",
    "$$P(A_{i}) = \\frac{1}{n}$$ for all $i$.\n",
    "\n",
    "By the naÏve definition of probability, using the full sample space: there are $n!$ possible orderings of hte deck, _all equally likely_, and $(n-1)!$ of these are favourable to $A_{i}$ (fix the card numbered $i$ to be in the $i$th position in the deck, and then the remaining $n-1$ cards can be in any order). Another way to see this is by symmetry: the card numbered $i$ is equally likely to be in any of the $n$ positions in the deck, so it has probability $1/n$ of being in the $i$th spot. Second,\n",
    "\n",
    "$$P(A_{i} \\cap A_{j}) = \\frac{(n-2)!}{n!} = \\frac{1}{n(n-1)}$$\n",
    "\n",
    "since we require the cards numbered $i$ and $j$ to be in the $i$th and $j$th spots in the deck and allow\n",
    "the remaining $n-2$ cards to be in any order, so $(n-2)!$ out of $n!$ possibilities are favourable to $A_{i} \\cap A_{j}$.\n",
    "Similarly,\n",
    "$$ P(A_{i} \\cap A_{j} \\cap A_{k}) = \\frac{1}{n(n-1)(n-2)} $$.\n",
    "\n",
    "and the pattern continues for intersections of 4 events, etc.\n",
    "\n",
    "In the _inclusion-exclusion_ formula, there are $n$ terms involving one event, $\\binom{n}{2}$ terms involving two events,\n",
    "$\\binom{n}{3}$ terms involving three events, and so forth. By the symmetry of the problem, all $n$ terms of the form\n",
    "$P(A_{i})$ are equal and the whole expression simplifies considerably:\n",
    "\n",
    "$$\n",
    "\\begin{aligned}\n",
    "P(\\bigcup_{i=1}^{n} A_{i}) &= \\frac{n}{n} - \\frac{\\binom{n}{2}}{n(n-1)} + \\frac{\\binom{n}{3}}{n(n-1)(n-2)} - \\cdots + (-1)^{n+1} \\cdot \\frac{1}{n!} \\\\\n",
    "&= 1 - \\frac{1}{2!} + \\frac{1}{3!} - \\cdots + (-1)^{n+1} \\cdot \\frac{1}{n!}\n",
    "\\end{aligned}\n",
    "$$\n",
    "\n",
    "Comparing this to the Taylor series for $\\frac{1}{e}$,\n",
    "$$\n",
    "e^{-1} = 1 - \\frac{1}{1!} + \\frac{1}{2!} - \\frac{1}{3!} + \\cdots\n",
    "$$\n",
    "\n",
    "That is,\n",
    "$$\n",
    "P(\\bigcup_{i=1}^{n} A_{i}) = 1 - \\frac{1}{e}\n",
    "$$\n",
    "\n",
    "we see that for large $n$, the probability of winning the game is extremely close to $1 - \\frac{1}{e}$, or aboout $0.63$. With lots of cards in the deck, the number of possible locations for matchng cards increases while the probability of any particular match decreases, and the two forces offset each other and balance to give a probability of about $1 - \\frac{1}{e}$."
   ]
  },
  {
   "cell_type": "markdown",
   "id": "secret-fusion",
   "metadata": {},
   "source": [
    "### Matching problen simulation \n",
    "Let's show by simulation that the probability of a matching card is approximately $1 - 1/e$ when the deck is sufficiently large."
   ]
  },
  {
   "cell_type": "code",
   "execution_count": 50,
   "id": "cross-soccer",
   "metadata": {},
   "outputs": [
    {
     "data": {
      "text/html": [
       "0.6313"
      ],
      "text/latex": [
       "0.6313"
      ],
      "text/markdown": [
       "0.6313"
      ],
      "text/plain": [
       "[1] 0.6313"
      ]
     },
     "metadata": {},
     "output_type": "display_data"
    }
   ],
   "source": [
    "n <- 100                                          # number of cards in the deck\n",
    "repeats <- 10^4                                   # how many times to simulate the experiment\n",
    "r <- replicate(repeats, sum(sample(n) == (1:n)))  # shuffle; count matches\n",
    "sum(r > 0) / repeats                              # ratio over size of experiement"
   ]
  },
  {
   "cell_type": "markdown",
   "id": "annoying-cathedral",
   "metadata": {},
   "source": [
    "### Example 1.4.8 Birthday problem\n",
    "\n",
    "There are k people in a room. Assume each person’s birthday is equally likely to be any of the 365 days of the year\n",
    "(we exclude February 29), and that people’s birthdays are independent (we assume there are no\n",
    "twins in the room). What is the probability that two or more people in the group\n",
    "have the same birthday?"
   ]
  },
  {
   "cell_type": "markdown",
   "id": "white-paris",
   "metadata": {},
   "source": [
    "**_Solution:_**\\\n",
    "There are $365^k$ ways to assign birthdays to the people in the room, since we can\n",
    "imagine the 365 days of the year being sampled k times, with replacement. By\n",
    "assumption, all of these possibilities are equally likely, so the naive definition of\n",
    "probability applies.\n",
    "\n",
    "Used directly, the naive definition says we just need to count the number of ways\n",
    "to assign birthdays to $k$ people such that there are two or more people who share a\n",
    "birthday. But this counting problem is hard, since it could be Emma and Steve who\n",
    "share a birthday, or Steve and Naomi, or all three of them, or the three of them\n",
    "could share a birthday while two others in the group share a di↵erent birthday, or\n",
    "various other possibilities.\n",
    "\n",
    "Instead, let’s count the complement: the number of ways to assign birthdays to\n",
    "$k$ people such that no two people share a birthday. This amounts to sampling\n",
    "the 365 days of the year without replacement, so the number of possibilities is\n",
    "$365 \\cdot 364 \\cdot 363 \\cdots (365 − k +1)$ for $k \\leq 365$.\n",
    "Therefore the probability of no birthday matches in a group of k people is\n",
    "$$ P(\\mbox{no birthday match}) = 365 \\cdot 364 \\cdots (365 − k + 1) \\cdot 365^k $$\n",
    "and the probability of at least one birthday match is\n",
    "$$ P(\\textit{at least 1 birthday match}) = 1 − 365 \\cdot 364 \\cdots (365 − k + 1) \\cdot 365^k $$"
   ]
  },
  {
   "cell_type": "markdown",
   "id": "ordinary-courtesy",
   "metadata": {},
   "source": [
    "**_Simulation:_**\\\n",
    "The following colde uses prod (which gives the product of a vector) to calculate the probability of at least one birthday match in a group of 23 people"
   ]
  },
  {
   "cell_type": "code",
   "execution_count": 8,
   "id": "indirect-casino",
   "metadata": {},
   "outputs": [
    {
     "data": {
      "text/html": [
       "0.507297234323985"
      ],
      "text/latex": [
       "0.507297234323985"
      ],
      "text/markdown": [
       "0.507297234323985"
      ],
      "text/plain": [
       "[1] 0.5072972"
      ]
     },
     "metadata": {},
     "output_type": "display_data"
    }
   ],
   "source": [
    "k <- 23\n",
    "1 - prod((365-k+1):365)/365^k   # probability of at least 1 birthday match in a group of k people"
   ]
  },
  {
   "cell_type": "markdown",
   "id": "center-device",
   "metadata": {},
   "source": [
    "To simulate the birthday problem, generate random birthdays for 23 people and then tabulate the counts of how many people were born on each day."
   ]
  },
  {
   "cell_type": "code",
   "execution_count": 45,
   "id": "loose-prevention",
   "metadata": {},
   "outputs": [
    {
     "data": {
      "text/html": [
       "<style>\n",
       ".list-inline {list-style: none; margin:0; padding: 0}\n",
       ".list-inline>li {display: inline-block}\n",
       ".list-inline>li:not(:last-child)::after {content: \"\\00b7\"; padding: 0 .5ex}\n",
       "</style>\n",
       "<ol class=list-inline><li>0</li><li>1</li><li>0</li><li>0</li><li>0</li><li>0</li><li>0</li><li>0</li><li>0</li><li>0</li><li>0</li><li>0</li><li>0</li><li>0</li><li>0</li><li>0</li><li>0</li><li>0</li><li>1</li><li>0</li><li>0</li><li>0</li><li>0</li><li>0</li><li>0</li><li>0</li><li>0</li><li>0</li><li>0</li><li>0</li><li>0</li><li>0</li><li>0</li><li>0</li><li>0</li><li>0</li><li>0</li><li>0</li><li>0</li><li>0</li><li>0</li><li>0</li><li>0</li><li>0</li><li>0</li><li>0</li><li>1</li><li>0</li><li>0</li><li>1</li><li>0</li><li>0</li><li>0</li><li>0</li><li>0</li><li>0</li><li>0</li><li>0</li><li>1</li><li>0</li><li>0</li><li>0</li><li>0</li><li>0</li><li>0</li><li>0</li><li>0</li><li>1</li><li>0</li><li>0</li><li>0</li><li>0</li><li>0</li><li>0</li><li>0</li><li>0</li><li>0</li><li>0</li><li>0</li><li>0</li><li>0</li><li>0</li><li>0</li><li>0</li><li>0</li><li>0</li><li>0</li><li>0</li><li>0</li><li>0</li><li>0</li><li>0</li><li>0</li><li>0</li><li>0</li><li>0</li><li>0</li><li>0</li><li>0</li><li>0</li><li>0</li><li>0</li><li>0</li><li>0</li><li>0</li><li>0</li><li>0</li><li>0</li><li>0</li><li>0</li><li>0</li><li>0</li><li>0</li><li>0</li><li>0</li><li>0</li><li>0</li><li>0</li><li>0</li><li>0</li><li>0</li><li>0</li><li>0</li><li>0</li><li>0</li><li>0</li><li>0</li><li>0</li><li>0</li><li>0</li><li>0</li><li>0</li><li>1</li><li>0</li><li>0</li><li>0</li><li>0</li><li>0</li><li>0</li><li>0</li><li>0</li><li>0</li><li>0</li><li>0</li><li>0</li><li>0</li><li>0</li><li>0</li><li>0</li><li>0</li><li>0</li><li>0</li><li>0</li><li>1</li><li>0</li><li>0</li><li>2</li><li>0</li><li>0</li><li>0</li><li>0</li><li>0</li><li>0</li><li>0</li><li>0</li><li>0</li><li>0</li><li>0</li><li>0</li><li>0</li><li>0</li><li>0</li><li>0</li><li>0</li><li>0</li><li>0</li><li>0</li><li>0</li><li>0</li><li>1</li><li>0</li><li>0</li><li>0</li><li>0</li><li>1</li><li>0</li><li>0</li><li>0</li><li>0</li><li>0</li><li>0</li><li>0</li><li>0</li><li>0</li><li>0</li><li>0</li><li>0</li><li>0</li><li>0</li><li>0</li><li>0</li><li>0</li><li>0</li><li>1</li><li>0</li><li>0</li><li>0</li><li>0</li><li>0</li><li>0</li><li>0</li><li>0</li><li>0</li><li>0</li><li>0</li><li>1</li><li>0</li><li>0</li><li>0</li><li>0</li><li>0</li><li>0</li><li>0</li><li>0</li><li>0</li><li>0</li><li>0</li><li>0</li><li>0</li><li>0</li><li>1</li><li>0</li><li>0</li><li>0</li><li>0</li><li>0</li><li>0</li><li>0</li><li>0</li><li>0</li><li>0</li><li>0</li><li>0</li><li>0</li><li>0</li><li>0</li><li>0</li><li>0</li><li>0</li><li>1</li><li>0</li><li>0</li><li>0</li><li>0</li><li>0</li><li>0</li><li>0</li><li>1</li><li>0</li><li>0</li><li>0</li><li>0</li><li>0</li><li>0</li><li>0</li><li>0</li><li>0</li><li>0</li><li>0</li><li>0</li><li>0</li><li>0</li><li>0</li><li>0</li><li>0</li><li>0</li><li>0</li><li>0</li><li>0</li><li>0</li><li>0</li><li>0</li><li>0</li><li>0</li><li>0</li><li>0</li><li>0</li><li>0</li><li>0</li><li>0</li><li>0</li><li>0</li><li>0</li><li>0</li><li>0</li><li>0</li><li>0</li><li>0</li><li>0</li><li>0</li><li>0</li><li>0</li><li>0</li><li>0</li><li>0</li><li>0</li><li>0</li><li>0</li><li>0</li><li>0</li><li>0</li><li>0</li><li>0</li><li>0</li><li>1</li><li>0</li><li>0</li><li>0</li><li>0</li><li>0</li><li>0</li><li>0</li><li>0</li><li>0</li><li>0</li><li>0</li><li>0</li><li>0</li><li>0</li><li>1</li><li>0</li><li>1</li><li>0</li><li>0</li><li>1</li><li>0</li><li>0</li><li>0</li><li>0</li><li>0</li><li>0</li><li>0</li><li>0</li><li>0</li><li>0</li><li>0</li><li>0</li><li>0</li><li>0</li><li>0</li><li>1</li><li>0</li><li>0</li><li>0</li><li>0</li><li>0</li><li>0</li><li>0</li><li>0</li><li>0</li><li>0</li><li>0</li><li>1</li></ol>\n"
      ],
      "text/latex": [
       "\\begin{enumerate*}\n",
       "\\item 0\n",
       "\\item 1\n",
       "\\item 0\n",
       "\\item 0\n",
       "\\item 0\n",
       "\\item 0\n",
       "\\item 0\n",
       "\\item 0\n",
       "\\item 0\n",
       "\\item 0\n",
       "\\item 0\n",
       "\\item 0\n",
       "\\item 0\n",
       "\\item 0\n",
       "\\item 0\n",
       "\\item 0\n",
       "\\item 0\n",
       "\\item 0\n",
       "\\item 1\n",
       "\\item 0\n",
       "\\item 0\n",
       "\\item 0\n",
       "\\item 0\n",
       "\\item 0\n",
       "\\item 0\n",
       "\\item 0\n",
       "\\item 0\n",
       "\\item 0\n",
       "\\item 0\n",
       "\\item 0\n",
       "\\item 0\n",
       "\\item 0\n",
       "\\item 0\n",
       "\\item 0\n",
       "\\item 0\n",
       "\\item 0\n",
       "\\item 0\n",
       "\\item 0\n",
       "\\item 0\n",
       "\\item 0\n",
       "\\item 0\n",
       "\\item 0\n",
       "\\item 0\n",
       "\\item 0\n",
       "\\item 0\n",
       "\\item 0\n",
       "\\item 1\n",
       "\\item 0\n",
       "\\item 0\n",
       "\\item 1\n",
       "\\item 0\n",
       "\\item 0\n",
       "\\item 0\n",
       "\\item 0\n",
       "\\item 0\n",
       "\\item 0\n",
       "\\item 0\n",
       "\\item 0\n",
       "\\item 1\n",
       "\\item 0\n",
       "\\item 0\n",
       "\\item 0\n",
       "\\item 0\n",
       "\\item 0\n",
       "\\item 0\n",
       "\\item 0\n",
       "\\item 0\n",
       "\\item 1\n",
       "\\item 0\n",
       "\\item 0\n",
       "\\item 0\n",
       "\\item 0\n",
       "\\item 0\n",
       "\\item 0\n",
       "\\item 0\n",
       "\\item 0\n",
       "\\item 0\n",
       "\\item 0\n",
       "\\item 0\n",
       "\\item 0\n",
       "\\item 0\n",
       "\\item 0\n",
       "\\item 0\n",
       "\\item 0\n",
       "\\item 0\n",
       "\\item 0\n",
       "\\item 0\n",
       "\\item 0\n",
       "\\item 0\n",
       "\\item 0\n",
       "\\item 0\n",
       "\\item 0\n",
       "\\item 0\n",
       "\\item 0\n",
       "\\item 0\n",
       "\\item 0\n",
       "\\item 0\n",
       "\\item 0\n",
       "\\item 0\n",
       "\\item 0\n",
       "\\item 0\n",
       "\\item 0\n",
       "\\item 0\n",
       "\\item 0\n",
       "\\item 0\n",
       "\\item 0\n",
       "\\item 0\n",
       "\\item 0\n",
       "\\item 0\n",
       "\\item 0\n",
       "\\item 0\n",
       "\\item 0\n",
       "\\item 0\n",
       "\\item 0\n",
       "\\item 0\n",
       "\\item 0\n",
       "\\item 0\n",
       "\\item 0\n",
       "\\item 0\n",
       "\\item 0\n",
       "\\item 0\n",
       "\\item 0\n",
       "\\item 0\n",
       "\\item 0\n",
       "\\item 0\n",
       "\\item 0\n",
       "\\item 0\n",
       "\\item 0\n",
       "\\item 0\n",
       "\\item 0\n",
       "\\item 0\n",
       "\\item 0\n",
       "\\item 1\n",
       "\\item 0\n",
       "\\item 0\n",
       "\\item 0\n",
       "\\item 0\n",
       "\\item 0\n",
       "\\item 0\n",
       "\\item 0\n",
       "\\item 0\n",
       "\\item 0\n",
       "\\item 0\n",
       "\\item 0\n",
       "\\item 0\n",
       "\\item 0\n",
       "\\item 0\n",
       "\\item 0\n",
       "\\item 0\n",
       "\\item 0\n",
       "\\item 0\n",
       "\\item 0\n",
       "\\item 0\n",
       "\\item 1\n",
       "\\item 0\n",
       "\\item 0\n",
       "\\item 2\n",
       "\\item 0\n",
       "\\item 0\n",
       "\\item 0\n",
       "\\item 0\n",
       "\\item 0\n",
       "\\item 0\n",
       "\\item 0\n",
       "\\item 0\n",
       "\\item 0\n",
       "\\item 0\n",
       "\\item 0\n",
       "\\item 0\n",
       "\\item 0\n",
       "\\item 0\n",
       "\\item 0\n",
       "\\item 0\n",
       "\\item 0\n",
       "\\item 0\n",
       "\\item 0\n",
       "\\item 0\n",
       "\\item 0\n",
       "\\item 0\n",
       "\\item 1\n",
       "\\item 0\n",
       "\\item 0\n",
       "\\item 0\n",
       "\\item 0\n",
       "\\item 1\n",
       "\\item 0\n",
       "\\item 0\n",
       "\\item 0\n",
       "\\item 0\n",
       "\\item 0\n",
       "\\item 0\n",
       "\\item 0\n",
       "\\item 0\n",
       "\\item 0\n",
       "\\item 0\n",
       "\\item 0\n",
       "\\item 0\n",
       "\\item 0\n",
       "\\item 0\n",
       "\\item 0\n",
       "\\item 0\n",
       "\\item 0\n",
       "\\item 0\n",
       "\\item 1\n",
       "\\item 0\n",
       "\\item 0\n",
       "\\item 0\n",
       "\\item 0\n",
       "\\item 0\n",
       "\\item 0\n",
       "\\item 0\n",
       "\\item 0\n",
       "\\item 0\n",
       "\\item 0\n",
       "\\item 0\n",
       "\\item 1\n",
       "\\item 0\n",
       "\\item 0\n",
       "\\item 0\n",
       "\\item 0\n",
       "\\item 0\n",
       "\\item 0\n",
       "\\item 0\n",
       "\\item 0\n",
       "\\item 0\n",
       "\\item 0\n",
       "\\item 0\n",
       "\\item 0\n",
       "\\item 0\n",
       "\\item 0\n",
       "\\item 1\n",
       "\\item 0\n",
       "\\item 0\n",
       "\\item 0\n",
       "\\item 0\n",
       "\\item 0\n",
       "\\item 0\n",
       "\\item 0\n",
       "\\item 0\n",
       "\\item 0\n",
       "\\item 0\n",
       "\\item 0\n",
       "\\item 0\n",
       "\\item 0\n",
       "\\item 0\n",
       "\\item 0\n",
       "\\item 0\n",
       "\\item 0\n",
       "\\item 0\n",
       "\\item 1\n",
       "\\item 0\n",
       "\\item 0\n",
       "\\item 0\n",
       "\\item 0\n",
       "\\item 0\n",
       "\\item 0\n",
       "\\item 0\n",
       "\\item 1\n",
       "\\item 0\n",
       "\\item 0\n",
       "\\item 0\n",
       "\\item 0\n",
       "\\item 0\n",
       "\\item 0\n",
       "\\item 0\n",
       "\\item 0\n",
       "\\item 0\n",
       "\\item 0\n",
       "\\item 0\n",
       "\\item 0\n",
       "\\item 0\n",
       "\\item 0\n",
       "\\item 0\n",
       "\\item 0\n",
       "\\item 0\n",
       "\\item 0\n",
       "\\item 0\n",
       "\\item 0\n",
       "\\item 0\n",
       "\\item 0\n",
       "\\item 0\n",
       "\\item 0\n",
       "\\item 0\n",
       "\\item 0\n",
       "\\item 0\n",
       "\\item 0\n",
       "\\item 0\n",
       "\\item 0\n",
       "\\item 0\n",
       "\\item 0\n",
       "\\item 0\n",
       "\\item 0\n",
       "\\item 0\n",
       "\\item 0\n",
       "\\item 0\n",
       "\\item 0\n",
       "\\item 0\n",
       "\\item 0\n",
       "\\item 0\n",
       "\\item 0\n",
       "\\item 0\n",
       "\\item 0\n",
       "\\item 0\n",
       "\\item 0\n",
       "\\item 0\n",
       "\\item 0\n",
       "\\item 0\n",
       "\\item 0\n",
       "\\item 0\n",
       "\\item 0\n",
       "\\item 0\n",
       "\\item 0\n",
       "\\item 0\n",
       "\\item 0\n",
       "\\item 1\n",
       "\\item 0\n",
       "\\item 0\n",
       "\\item 0\n",
       "\\item 0\n",
       "\\item 0\n",
       "\\item 0\n",
       "\\item 0\n",
       "\\item 0\n",
       "\\item 0\n",
       "\\item 0\n",
       "\\item 0\n",
       "\\item 0\n",
       "\\item 0\n",
       "\\item 0\n",
       "\\item 1\n",
       "\\item 0\n",
       "\\item 1\n",
       "\\item 0\n",
       "\\item 0\n",
       "\\item 1\n",
       "\\item 0\n",
       "\\item 0\n",
       "\\item 0\n",
       "\\item 0\n",
       "\\item 0\n",
       "\\item 0\n",
       "\\item 0\n",
       "\\item 0\n",
       "\\item 0\n",
       "\\item 0\n",
       "\\item 0\n",
       "\\item 0\n",
       "\\item 0\n",
       "\\item 0\n",
       "\\item 0\n",
       "\\item 1\n",
       "\\item 0\n",
       "\\item 0\n",
       "\\item 0\n",
       "\\item 0\n",
       "\\item 0\n",
       "\\item 0\n",
       "\\item 0\n",
       "\\item 0\n",
       "\\item 0\n",
       "\\item 0\n",
       "\\item 0\n",
       "\\item 1\n",
       "\\end{enumerate*}\n"
      ],
      "text/markdown": [
       "1. 0\n",
       "2. 1\n",
       "3. 0\n",
       "4. 0\n",
       "5. 0\n",
       "6. 0\n",
       "7. 0\n",
       "8. 0\n",
       "9. 0\n",
       "10. 0\n",
       "11. 0\n",
       "12. 0\n",
       "13. 0\n",
       "14. 0\n",
       "15. 0\n",
       "16. 0\n",
       "17. 0\n",
       "18. 0\n",
       "19. 1\n",
       "20. 0\n",
       "21. 0\n",
       "22. 0\n",
       "23. 0\n",
       "24. 0\n",
       "25. 0\n",
       "26. 0\n",
       "27. 0\n",
       "28. 0\n",
       "29. 0\n",
       "30. 0\n",
       "31. 0\n",
       "32. 0\n",
       "33. 0\n",
       "34. 0\n",
       "35. 0\n",
       "36. 0\n",
       "37. 0\n",
       "38. 0\n",
       "39. 0\n",
       "40. 0\n",
       "41. 0\n",
       "42. 0\n",
       "43. 0\n",
       "44. 0\n",
       "45. 0\n",
       "46. 0\n",
       "47. 1\n",
       "48. 0\n",
       "49. 0\n",
       "50. 1\n",
       "51. 0\n",
       "52. 0\n",
       "53. 0\n",
       "54. 0\n",
       "55. 0\n",
       "56. 0\n",
       "57. 0\n",
       "58. 0\n",
       "59. 1\n",
       "60. 0\n",
       "61. 0\n",
       "62. 0\n",
       "63. 0\n",
       "64. 0\n",
       "65. 0\n",
       "66. 0\n",
       "67. 0\n",
       "68. 1\n",
       "69. 0\n",
       "70. 0\n",
       "71. 0\n",
       "72. 0\n",
       "73. 0\n",
       "74. 0\n",
       "75. 0\n",
       "76. 0\n",
       "77. 0\n",
       "78. 0\n",
       "79. 0\n",
       "80. 0\n",
       "81. 0\n",
       "82. 0\n",
       "83. 0\n",
       "84. 0\n",
       "85. 0\n",
       "86. 0\n",
       "87. 0\n",
       "88. 0\n",
       "89. 0\n",
       "90. 0\n",
       "91. 0\n",
       "92. 0\n",
       "93. 0\n",
       "94. 0\n",
       "95. 0\n",
       "96. 0\n",
       "97. 0\n",
       "98. 0\n",
       "99. 0\n",
       "100. 0\n",
       "101. 0\n",
       "102. 0\n",
       "103. 0\n",
       "104. 0\n",
       "105. 0\n",
       "106. 0\n",
       "107. 0\n",
       "108. 0\n",
       "109. 0\n",
       "110. 0\n",
       "111. 0\n",
       "112. 0\n",
       "113. 0\n",
       "114. 0\n",
       "115. 0\n",
       "116. 0\n",
       "117. 0\n",
       "118. 0\n",
       "119. 0\n",
       "120. 0\n",
       "121. 0\n",
       "122. 0\n",
       "123. 0\n",
       "124. 0\n",
       "125. 0\n",
       "126. 0\n",
       "127. 0\n",
       "128. 0\n",
       "129. 0\n",
       "130. 0\n",
       "131. 0\n",
       "132. 0\n",
       "133. 1\n",
       "134. 0\n",
       "135. 0\n",
       "136. 0\n",
       "137. 0\n",
       "138. 0\n",
       "139. 0\n",
       "140. 0\n",
       "141. 0\n",
       "142. 0\n",
       "143. 0\n",
       "144. 0\n",
       "145. 0\n",
       "146. 0\n",
       "147. 0\n",
       "148. 0\n",
       "149. 0\n",
       "150. 0\n",
       "151. 0\n",
       "152. 0\n",
       "153. 0\n",
       "154. 1\n",
       "155. 0\n",
       "156. 0\n",
       "157. 2\n",
       "158. 0\n",
       "159. 0\n",
       "160. 0\n",
       "161. 0\n",
       "162. 0\n",
       "163. 0\n",
       "164. 0\n",
       "165. 0\n",
       "166. 0\n",
       "167. 0\n",
       "168. 0\n",
       "169. 0\n",
       "170. 0\n",
       "171. 0\n",
       "172. 0\n",
       "173. 0\n",
       "174. 0\n",
       "175. 0\n",
       "176. 0\n",
       "177. 0\n",
       "178. 0\n",
       "179. 0\n",
       "180. 1\n",
       "181. 0\n",
       "182. 0\n",
       "183. 0\n",
       "184. 0\n",
       "185. 1\n",
       "186. 0\n",
       "187. 0\n",
       "188. 0\n",
       "189. 0\n",
       "190. 0\n",
       "191. 0\n",
       "192. 0\n",
       "193. 0\n",
       "194. 0\n",
       "195. 0\n",
       "196. 0\n",
       "197. 0\n",
       "198. 0\n",
       "199. 0\n",
       "200. 0\n",
       "201. 0\n",
       "202. 0\n",
       "203. 0\n",
       "204. 1\n",
       "205. 0\n",
       "206. 0\n",
       "207. 0\n",
       "208. 0\n",
       "209. 0\n",
       "210. 0\n",
       "211. 0\n",
       "212. 0\n",
       "213. 0\n",
       "214. 0\n",
       "215. 0\n",
       "216. 1\n",
       "217. 0\n",
       "218. 0\n",
       "219. 0\n",
       "220. 0\n",
       "221. 0\n",
       "222. 0\n",
       "223. 0\n",
       "224. 0\n",
       "225. 0\n",
       "226. 0\n",
       "227. 0\n",
       "228. 0\n",
       "229. 0\n",
       "230. 0\n",
       "231. 1\n",
       "232. 0\n",
       "233. 0\n",
       "234. 0\n",
       "235. 0\n",
       "236. 0\n",
       "237. 0\n",
       "238. 0\n",
       "239. 0\n",
       "240. 0\n",
       "241. 0\n",
       "242. 0\n",
       "243. 0\n",
       "244. 0\n",
       "245. 0\n",
       "246. 0\n",
       "247. 0\n",
       "248. 0\n",
       "249. 0\n",
       "250. 1\n",
       "251. 0\n",
       "252. 0\n",
       "253. 0\n",
       "254. 0\n",
       "255. 0\n",
       "256. 0\n",
       "257. 0\n",
       "258. 1\n",
       "259. 0\n",
       "260. 0\n",
       "261. 0\n",
       "262. 0\n",
       "263. 0\n",
       "264. 0\n",
       "265. 0\n",
       "266. 0\n",
       "267. 0\n",
       "268. 0\n",
       "269. 0\n",
       "270. 0\n",
       "271. 0\n",
       "272. 0\n",
       "273. 0\n",
       "274. 0\n",
       "275. 0\n",
       "276. 0\n",
       "277. 0\n",
       "278. 0\n",
       "279. 0\n",
       "280. 0\n",
       "281. 0\n",
       "282. 0\n",
       "283. 0\n",
       "284. 0\n",
       "285. 0\n",
       "286. 0\n",
       "287. 0\n",
       "288. 0\n",
       "289. 0\n",
       "290. 0\n",
       "291. 0\n",
       "292. 0\n",
       "293. 0\n",
       "294. 0\n",
       "295. 0\n",
       "296. 0\n",
       "297. 0\n",
       "298. 0\n",
       "299. 0\n",
       "300. 0\n",
       "301. 0\n",
       "302. 0\n",
       "303. 0\n",
       "304. 0\n",
       "305. 0\n",
       "306. 0\n",
       "307. 0\n",
       "308. 0\n",
       "309. 0\n",
       "310. 0\n",
       "311. 0\n",
       "312. 0\n",
       "313. 0\n",
       "314. 0\n",
       "315. 1\n",
       "316. 0\n",
       "317. 0\n",
       "318. 0\n",
       "319. 0\n",
       "320. 0\n",
       "321. 0\n",
       "322. 0\n",
       "323. 0\n",
       "324. 0\n",
       "325. 0\n",
       "326. 0\n",
       "327. 0\n",
       "328. 0\n",
       "329. 0\n",
       "330. 1\n",
       "331. 0\n",
       "332. 1\n",
       "333. 0\n",
       "334. 0\n",
       "335. 1\n",
       "336. 0\n",
       "337. 0\n",
       "338. 0\n",
       "339. 0\n",
       "340. 0\n",
       "341. 0\n",
       "342. 0\n",
       "343. 0\n",
       "344. 0\n",
       "345. 0\n",
       "346. 0\n",
       "347. 0\n",
       "348. 0\n",
       "349. 0\n",
       "350. 0\n",
       "351. 1\n",
       "352. 0\n",
       "353. 0\n",
       "354. 0\n",
       "355. 0\n",
       "356. 0\n",
       "357. 0\n",
       "358. 0\n",
       "359. 0\n",
       "360. 0\n",
       "361. 0\n",
       "362. 0\n",
       "363. 1\n",
       "\n",
       "\n"
      ],
      "text/plain": [
       "  [1] 0 1 0 0 0 0 0 0 0 0 0 0 0 0 0 0 0 0 1 0 0 0 0 0 0 0 0 0 0 0 0 0 0 0 0 0 0\n",
       " [38] 0 0 0 0 0 0 0 0 0 1 0 0 1 0 0 0 0 0 0 0 0 1 0 0 0 0 0 0 0 0 1 0 0 0 0 0 0\n",
       " [75] 0 0 0 0 0 0 0 0 0 0 0 0 0 0 0 0 0 0 0 0 0 0 0 0 0 0 0 0 0 0 0 0 0 0 0 0 0\n",
       "[112] 0 0 0 0 0 0 0 0 0 0 0 0 0 0 0 0 0 0 0 0 0 1 0 0 0 0 0 0 0 0 0 0 0 0 0 0 0\n",
       "[149] 0 0 0 0 0 1 0 0 2 0 0 0 0 0 0 0 0 0 0 0 0 0 0 0 0 0 0 0 0 0 0 1 0 0 0 0 1\n",
       "[186] 0 0 0 0 0 0 0 0 0 0 0 0 0 0 0 0 0 0 1 0 0 0 0 0 0 0 0 0 0 0 1 0 0 0 0 0 0\n",
       "[223] 0 0 0 0 0 0 0 0 1 0 0 0 0 0 0 0 0 0 0 0 0 0 0 0 0 0 0 1 0 0 0 0 0 0 0 1 0\n",
       "[260] 0 0 0 0 0 0 0 0 0 0 0 0 0 0 0 0 0 0 0 0 0 0 0 0 0 0 0 0 0 0 0 0 0 0 0 0 0\n",
       "[297] 0 0 0 0 0 0 0 0 0 0 0 0 0 0 0 0 0 0 1 0 0 0 0 0 0 0 0 0 0 0 0 0 0 1 0 1 0\n",
       "[334] 0 1 0 0 0 0 0 0 0 0 0 0 0 0 0 0 0 1 0 0 0 0 0 0 0 0 0 0 0 1"
      ]
     },
     "metadata": {},
     "output_type": "display_data"
    }
   ],
   "source": [
    "b <- sample(1:365, k, replace=TRUE)\n",
    "tabulate(b)"
   ]
  },
  {
   "cell_type": "markdown",
   "id": "helpful-equity",
   "metadata": {},
   "source": [
    "Run this sampling funcion $n$ times to verify the probablility for $k=23$"
   ]
  },
  {
   "cell_type": "code",
   "execution_count": 97,
   "id": "excited-ukraine",
   "metadata": {},
   "outputs": [
    {
     "data": {
      "text/html": [
       "0.5059"
      ],
      "text/latex": [
       "0.5059"
      ],
      "text/markdown": [
       "0.5059"
      ],
      "text/plain": [
       "[1] 0.5059"
      ]
     },
     "metadata": {},
     "output_type": "display_data"
    }
   ],
   "source": [
    "repeats <- 10^4\n",
    "r <- replicate(repeats, max(tabulate(sample(1:365, k, replace=TRUE))))   # r is length-10^4 tuple of the max frequency of same birthdays in a given sample\n",
    "sum(r > 1) / repeats                                                     # sum up the number of times an r element is > 1 (at least one shared birthday)"
   ]
  },
  {
   "cell_type": "markdown",
   "id": "invisible-character",
   "metadata": {},
   "source": [
    "Compare this with the built-in function _pbirthday($k$)_ returns the probability of at least one match if the room has $k$ people."
   ]
  },
  {
   "cell_type": "code",
   "execution_count": 110,
   "id": "arctic-acquisition",
   "metadata": {},
   "outputs": [
    {
     "data": {
      "text/html": [
       "0.507297234323986"
      ],
      "text/latex": [
       "0.507297234323986"
      ],
      "text/markdown": [
       "0.507297234323986"
      ],
      "text/plain": [
       "[1] 0.5072972"
      ]
     },
     "metadata": {},
     "output_type": "display_data"
    }
   ],
   "source": [
    "pbirthday(23)"
   ]
  },
  {
   "cell_type": "markdown",
   "id": "enormous-source",
   "metadata": {},
   "source": [
    "_qbirthday($p$)_ on the other hand computes the number of people need in order to have probabiliyt $p$ of at least one match. For example,"
   ]
  },
  {
   "cell_type": "code",
   "execution_count": 113,
   "id": "compliant-benchmark",
   "metadata": {},
   "outputs": [
    {
     "data": {
      "text/html": [
       "23"
      ],
      "text/latex": [
       "23"
      ],
      "text/markdown": [
       "23"
      ],
      "text/plain": [
       "[1] 23"
      ]
     },
     "metadata": {},
     "output_type": "display_data"
    },
    {
     "data": {
      "text/html": [
       "57"
      ],
      "text/latex": [
       "57"
      ],
      "text/markdown": [
       "57"
      ],
      "text/plain": [
       "[1] 57"
      ]
     },
     "metadata": {},
     "output_type": "display_data"
    }
   ],
   "source": [
    "qbirthday(0.5); qbirthday(0.99)"
   ]
  },
  {
   "cell_type": "markdown",
   "id": "ancient-major",
   "metadata": {},
   "source": [
    "**Exercise:** Use a custom function to count number of matches\\\n",
    "count_match() returns the number of shared birthdays ($x > 1$) in the sample set $x$\\\n",
    "Now try for $k = 57$ (expect 99% probability per qbirthday calculation)."
   ]
  },
  {
   "cell_type": "code",
   "execution_count": 73,
   "id": "negative-preliminary",
   "metadata": {},
   "outputs": [],
   "source": [
    "count_match <- function(x) {\n",
    "    length(x[x > 1])\n",
    "}"
   ]
  },
  {
   "cell_type": "code",
   "execution_count": 133,
   "id": "fresh-karaoke",
   "metadata": {},
   "outputs": [
    {
     "data": {
      "text/html": [
       "0.99"
      ],
      "text/latex": [
       "0.99"
      ],
      "text/markdown": [
       "0.99"
      ],
      "text/plain": [
       "[1] 0.99"
      ]
     },
     "metadata": {},
     "output_type": "display_data"
    }
   ],
   "source": [
    "repeats <- 10^4\n",
    "k <- 57\n",
    "r <- replicate(repeats, count_match(tabulate(sample(1:365, k, replace=TRUE))))   # count_match() counts shared birthdays (freq > 1)\n",
    "sum(r > 0) / repeats                                                             # success is count_match > 0"
   ]
  },
  {
   "cell_type": "markdown",
   "id": "naval-twelve",
   "metadata": {},
   "source": [
    "Chart the probability of at least one birthday match as a function of $𝑘$ ;  $𝑘=1…100$"
   ]
  },
  {
   "cell_type": "code",
   "execution_count": 134,
   "id": "optional-motivation",
   "metadata": {},
   "outputs": [
    {
     "data": {
      "image/png": "[encoded data removed]",
      "text/plain": [
       "plot without title"
      ]
     },
     "metadata": {
      "image/png": {
       "height": 420,
       "width": 420
      }
     },
     "output_type": "display_data"
    }
   ],
   "source": [
    "k <- c(1:100)\n",
    "p <- lapply(k, pbirthday)\n",
    "plot(k, p)"
   ]
  }
 ],
 "metadata": {
  "kernelspec": {
   "display_name": "R",
   "language": "R",
   "name": "ir"
  },
  "language_info": {
   "codemirror_mode": "r",
   "file_extension": ".r",
   "mimetype": "text/x-r-source",
   "name": "R",
   "pygments_lexer": "r",
   "version": "3.6.1"
  }
 },
 "nbformat": 4,
 "nbformat_minor": 5
}
