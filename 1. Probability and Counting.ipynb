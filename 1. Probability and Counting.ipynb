{
 "cells": [
  {
   "cell_type": "markdown",
   "metadata": {},
   "source": [
    "# Chapter 1. Probability and Counting"
   ]
  },
  {
   "cell_type": "code",
   "execution_count": 68,
   "metadata": {},
   "outputs": [],
   "source": [
    "import math\n",
    "from numpy.random import randint\n",
    "\n",
    "# import matplotlib.pyplot as plt\n",
    "import numpy as np\n",
    "import pandas as pd"
   ]
  },
  {
   "cell_type": "markdown",
   "metadata": {},
   "source": [
    "## Example 1.4.8: Birthday Problem\n",
    "\n",
    "### Problem: \n",
    "There are $k$ people in a room. Assume each person’s birthday is equally likely to be any of the $365$ days of the year (we exclude February 29), and that people’s birthdays are independent (we assume there are no twins in the room). What is the probability that two or more people in the group have the same birthday?"
   ]
  },
  {
   "cell_type": "markdown",
   "metadata": {},
   "source": [
    "### Solution:"
   ]
  },
  {
   "cell_type": "markdown",
   "metadata": {},
   "source": [
    "There are $365^k$ ways to assign birthdays to the people in the room (_cardinatlity_ of the sample space, $|S|=365^k$), since we can imagine the $365$ days of the year being sampled $k$ times, with replacement. By assumption, all of these possibilities are equally likely, so the naive definition of probability applies.\n",
    "\n",
    "Instead, let’s count the complement: the number of ways to assign birthdays to $k$ people such that no two people share a birthday. This amounts to sampling the $365$ days of the year without replacement, so the number of possibilities is\n",
    "$365 \\times 364 \\times 363 · · · (365−k +1); k \\leq 365$. Therefore the probability of no birthday matches in a group of $k$ people is\n",
    "\n",
    "$$P(\\mbox{no birthday match}) = \\frac{365 \\times 364 \\ldots (365 − k + 1)}{365^k} $$\n",
    "\n",
    "and the probability of at least one birthday match is\n",
    "\n",
    "$$P(\\mbox{at least 1 birthday match}) = 1 - \\frac{365 \\times 364 \\ldots (365 − k + 1)}{365^k}.$$"
   ]
  },
  {
   "cell_type": "code",
   "execution_count": 69,
   "metadata": {},
   "outputs": [
    {
     "name": "stdout",
     "output_type": "stream",
     "text": [
      "P(no birthday match) = 99.18%\n",
      "P(at least 1 match) = 0.82%\n"
     ]
    }
   ],
   "source": [
    "# for example, k = 3\n",
    "p_nomatch = math.perm(365, 3) / 365**3\n",
    "print('P(no birthday match) = {:.2%}'.format(p_nomatch))\n",
    "print('P(at least 1 match) = {:.2%}'.format(1 - p_nomatch))"
   ]
  },
  {
   "cell_type": "markdown",
   "metadata": {},
   "source": [
    "Chart the probability of at least one birthday match as a function of $k$; $k = 1 \\ldots 100$ "
   ]
  },
  {
   "cell_type": "code",
   "execution_count": 70,
   "metadata": {},
   "outputs": [
    {
     "data": {
      "text/html": [
       "<div>\n",
       "<style scoped>\n",
       "    .dataframe tbody tr th:only-of-type {\n",
       "        vertical-align: middle;\n",
       "    }\n",
       "\n",
       "    .dataframe tbody tr th {\n",
       "        vertical-align: top;\n",
       "    }\n",
       "\n",
       "    .dataframe thead th {\n",
       "        text-align: right;\n",
       "    }\n",
       "</style>\n",
       "<table border=\"1\" class=\"dataframe\">\n",
       "  <thead>\n",
       "    <tr style=\"text-align: right;\">\n",
       "      <th></th>\n",
       "      <th>k</th>\n",
       "      <th>Probability</th>\n",
       "    </tr>\n",
       "  </thead>\n",
       "  <tbody>\n",
       "    <tr>\n",
       "      <th>0</th>\n",
       "      <td>1</td>\n",
       "      <td>0.000000</td>\n",
       "    </tr>\n",
       "    <tr>\n",
       "      <th>1</th>\n",
       "      <td>2</td>\n",
       "      <td>0.002740</td>\n",
       "    </tr>\n",
       "    <tr>\n",
       "      <th>2</th>\n",
       "      <td>3</td>\n",
       "      <td>0.008204</td>\n",
       "    </tr>\n",
       "    <tr>\n",
       "      <th>3</th>\n",
       "      <td>4</td>\n",
       "      <td>0.016356</td>\n",
       "    </tr>\n",
       "    <tr>\n",
       "      <th>4</th>\n",
       "      <td>5</td>\n",
       "      <td>0.027136</td>\n",
       "    </tr>\n",
       "    <tr>\n",
       "      <th>5</th>\n",
       "      <td>6</td>\n",
       "      <td>0.040462</td>\n",
       "    </tr>\n",
       "    <tr>\n",
       "      <th>6</th>\n",
       "      <td>7</td>\n",
       "      <td>0.056236</td>\n",
       "    </tr>\n",
       "    <tr>\n",
       "      <th>7</th>\n",
       "      <td>8</td>\n",
       "      <td>0.074335</td>\n",
       "    </tr>\n",
       "    <tr>\n",
       "      <th>8</th>\n",
       "      <td>9</td>\n",
       "      <td>0.094624</td>\n",
       "    </tr>\n",
       "    <tr>\n",
       "      <th>9</th>\n",
       "      <td>10</td>\n",
       "      <td>0.116948</td>\n",
       "    </tr>\n",
       "  </tbody>\n",
       "</table>\n",
       "</div>"
      ],
      "text/plain": [
       "    k  Probability\n",
       "0   1     0.000000\n",
       "1   2     0.002740\n",
       "2   3     0.008204\n",
       "3   4     0.016356\n",
       "4   5     0.027136\n",
       "5   6     0.040462\n",
       "6   7     0.056236\n",
       "7   8     0.074335\n",
       "8   9     0.094624\n",
       "9  10     0.116948"
      ]
     },
     "execution_count": 70,
     "metadata": {},
     "output_type": "execute_result"
    }
   ],
   "source": [
    "k = [i for i in range(1, 101)]\n",
    "P = [1 - (math.perm(365, k)/365**k) for k in range(1, 101)]\n",
    "df = pd.DataFrame(data = list(zip(k, P)), columns=['k', 'Probability'])\n",
    "df[:10]"
   ]
  },
  {
   "cell_type": "code",
   "execution_count": 71,
   "metadata": {},
   "outputs": [],
   "source": [
    "df['mid']=0.5"
   ]
  },
  {
   "cell_type": "code",
   "execution_count": 72,
   "metadata": {},
   "outputs": [
    {
     "data": {
      "text/plain": [
       "<AxesSubplot:xlabel='k'>"
      ]
     },
     "execution_count": 72,
     "metadata": {},
     "output_type": "execute_result"
    },
    {
     "data": {
      "image/png": "[encoded data removed]",
      "text/plain": [
       "<Figure size 432x288 with 1 Axes>"
      ]
     },
     "metadata": {
      "needs_background": "light"
     },
     "output_type": "display_data"
    }
   ],
   "source": [
    "df.plot(x='k', y=['Probability','mid'], kind='line')"
   ]
  },
  {
   "cell_type": "markdown",
   "metadata": {},
   "source": [
    "Thus, in a group of 23 people, there is a better than 50% chance that two or more of them will have the same birthday. By the time we reach $k = 57$. the probability of a match exceeds 99%."
   ]
  },
  {
   "cell_type": "code",
   "execution_count": 73,
   "metadata": {},
   "outputs": [
    {
     "name": "stdout",
     "output_type": "stream",
     "text": [
      "P(23) = 50.73%\n",
      "P(57) = 99.01%\n"
     ]
    }
   ],
   "source": [
    "print(\"P(23) = {:.2%}\".format(df[df.k==23].iloc[0]['Probability']))\n",
    "print(\"P(57) = {:.2%}\".format(df[df.k==57].iloc[0].Probability))"
   ]
  },
  {
   "cell_type": "markdown",
   "metadata": {},
   "source": [
    "### Simulate the scenarios\n",
    "Default simulation generates a sample set of birthdays for $k=23$ people for $n=10^4$ iterations."
   ]
  },
  {
   "cell_type": "code",
   "execution_count": 74,
   "metadata": {},
   "outputs": [],
   "source": [
    "def birthdays(k = 23, n = 10**4):\n",
    "    return sum([int(np.bincount(randint(1, 365, k)).max() > 1) for n in range(n)]) / n"
   ]
  },
  {
   "cell_type": "code",
   "execution_count": 75,
   "metadata": {},
   "outputs": [
    {
     "name": "stdout",
     "output_type": "stream",
     "text": [
      "In a group of 23 people, there is a 51.14% chance that two or more of them will share the same birthday.\n",
      "In a group of 57 people, there is a 99.15% chance that two or more of them will share the same birthday.\n"
     ]
    }
   ],
   "source": [
    "print(\"In a group of 23 people, there is a {:.2%} chance that two or more of them will share the same birthday.\".format(birthdays()))\n",
    "print(\"In a group of 57 people, there is a {:.2%} chance that two or more of them will share the same birthday.\".format(birthdays(57)))"
   ]
  },
  {
   "cell_type": "markdown",
   "metadata": {},
   "source": [
    "## The Envelope Problem\n",
    "\n",
    "A group of _n_ people receives _n_ envelopes with their names on them --- but someone has completely mixed up the envelopes! Find the probability that at least one person will receive the proper envelope.\n",
    "\n",
    "Let $A_i$: Person _i_ receives the correct envelope. $$P(A) = P(A_1 \\cup A_2 \\ldots \\cup A_n)$$\n",
    "\n",
    "Which becomes a classic inclusion-exclusion problem"
   ]
  },
  {
   "cell_type": "markdown",
   "metadata": {},
   "source": [
    "## Poker Problems"
   ]
  },
  {
   "cell_type": "markdown",
   "metadata": {},
   "source": [
    "### 2 pairs\n",
    "\n",
    "- Select 2 ranks, can do this $\\binom{13}{2}$ ways\n",
    "- Select 2 suits for the first pair, $\\binom{4}{2}$ ways\n",
    "- Select 2 suits for the second pair, $\\binom{4}{2}$ ways\n",
    "- Select remaining cards, 52 minus 2 ranks (8 cards) = 44 ways\n",
    "\n",
    "$$|\\mbox{2 pairs}| = \\binom{13}{2}\\binom{4}{2}\\binom{4}{2}44$$\n",
    "\n",
    "$$P(\\mbox{2 pairs}) = \\frac{|\\mbox{2 pairs}|}{\\binom{52}{5}} $$"
   ]
  },
  {
   "cell_type": "code",
   "execution_count": 76,
   "metadata": {},
   "outputs": [
    {
     "name": "stdout",
     "output_type": "stream",
     "text": [
      "There are 123,552 ways to arrange 2 pairs\n",
      "There are 2,598,960 ways to pick 5 cards\n",
      "P(2 pairs) = 4.7539%\n"
     ]
    }
   ],
   "source": [
    "cardinal_2pr = math.comb(13,2) * math.comb(4,2) * math.comb(4,2) * 44\n",
    "print(\"There are {0:,} ways to arrange 2 pairs\".format(cardinal_2pr))\n",
    "cardinal_5cards = math.comb(52,5)\n",
    "print(\"There are {:,} ways to pick 5 cards\".format(cardinal_5cards))\n",
    "prob_2pr = cardinal_2pr/ cardinal_5cards\n",
    "print(\"P(2 pairs) = {:,.4%}\".format(prob_2pr))"
   ]
  },
  {
   "cell_type": "markdown",
   "metadata": {},
   "source": [
    "### Full house (1 pair + 3-of-a-kind)\n",
    "- select 2 _ordered ranks_, because the triple and the pair are distinct, i.e. $P_{13,2}$ ways\n",
    "- select 2 suits for the pair, $\\binom{4}{2}$ ways\n",
    "- select 3 suits for the 3-of-a-kind, $\\binom{4}[3} ways\n",
    "\n",
    "$$|\\mbox{full house}| = P_{13,2} \\cdot \\binom{4}{2} \\binom{4}{3}$$\n",
    "$$ P(\\mbox{full house}) = \\frac{|\\mbox{full house}|}{\\binom{52}{5}} $$"
   ]
  },
  {
   "cell_type": "code",
   "execution_count": 77,
   "metadata": {},
   "outputs": [
    {
     "name": "stdout",
     "output_type": "stream",
     "text": [
      "There are 3,744 ways to get a full house\n",
      "P(fullhouse) = 0.1441%\n"
     ]
    }
   ],
   "source": [
    "cardinal_fh = math.perm(13,2) * math.comb(4,2) * math.comb(4,3)\n",
    "print(\"There are {0:,} ways to get a full house\".format(cardinal_fh))\n",
    "prob_fh = cardinal_fh/ cardinal_5cards\n",
    "print(\"P(fullhouse) = {:,.4%}\".format(prob_fh))"
   ]
  },
  {
   "cell_type": "markdown",
   "metadata": {},
   "source": [
    "### Flush (all 5 cards of the same suit, _all inclusive_)\n",
    "- select a suit $\\binom{4}{1}$ ways\n",
    "- select 5 cards fron that suit, $\\binom{13}{5}$ ways\n",
    "$$P\n",
    "(\\mbox{flush}) = \\frac{\\binom{4}{1}\\binom{13}{5}}{\\binom{52}{5}}\n",
    "$$"
   ]
  },
  {
   "cell_type": "code",
   "execution_count": 78,
   "metadata": {},
   "outputs": [
    {
     "name": "stdout",
     "output_type": "stream",
     "text": [
      "There are 5,148 ways to get a flush\n",
      "P(flush) = 0.1981%\n"
     ]
    }
   ],
   "source": [
    "cardinal_fl = math.comb(4,1) * math.comb(13,5)\n",
    "print(\"There are {0:,} ways to get a flush\".format(cardinal_fl))\n",
    "prob_fl = cardinal_fl / cardinal_5cards\n",
    "print(\"P(flush) = {:,.4%}\".format(prob_fl))"
   ]
  },
  {
   "cell_type": "markdown",
   "metadata": {},
   "source": [
    "### Straight (5 ranks in a row, includes all straights)\n",
    "* select a starting point: (A, 2, 3, ... 10), i.e. $\\binom{10}{1}$ ways\n",
    "* select a suit for each card, $4^5$ ways\n",
    "\n",
    "$$\n",
    "P(\\mbox{straigh}) = \\frac{\\binom{10}{1} \\cdot 4^5}{\\binom{52}{5}}\n",
    "$$"
   ]
  },
  {
   "cell_type": "code",
   "execution_count": 79,
   "metadata": {},
   "outputs": [
    {
     "name": "stdout",
     "output_type": "stream",
     "text": [
      "There are 10,240 ways to get a stright\n",
      "P(straight) = 0.3940%\n"
     ]
    }
   ],
   "source": [
    "cardinal_st = math.comb(10,1) * 4**5\n",
    "print(\"There are {0:,} ways to get a stright\".format(cardinal_st))\n",
    "prob_st = cardinal_st / cardinal_5cards\n",
    "print(\"P(straight) = {:,.4%}\".format(prob_st))"
   ]
  },
  {
   "cell_type": "markdown",
   "metadata": {},
   "source": [
    "### Straight Flush (straight within a same suit)\n",
    "- select a starting point as it was for the straight, $\\binom{10}{1} ways\n",
    "- select a suit, 4 ways\n",
    "$$\n",
    "P(\\mbox{straight flush}) = \\frac{\\binom{10}{1} \\cdot 4}{\\binom{52}{5}}\n",
    "$$"
   ]
  },
  {
   "cell_type": "code",
   "execution_count": 80,
   "metadata": {},
   "outputs": [
    {
     "name": "stdout",
     "output_type": "stream",
     "text": [
      "There are 40 ways to get a straight flush\n",
      "P(straight flush) = 0.001539%\n"
     ]
    }
   ],
   "source": [
    "cardinal_sf = math.comb(10,1) * 4\n",
    "print(\"There are {0:,} ways to get a straight flush\".format(cardinal_sf))\n",
    "prob_sf = cardinal_sf / cardinal_5cards\n",
    "print(\"P(straight flush) = {:,.6%}\".format(prob_sf))"
   ]
  }
 ],
 "metadata": {
  "kernelspec": {
   "display_name": "Python 3 (ipykernel)",
   "language": "python",
   "name": "python3"
  },
  "language_info": {
   "codemirror_mode": {
    "name": "ipython",
    "version": 3
   },
   "file_extension": ".py",
   "mimetype": "text/x-python",
   "name": "python",
   "nbconvert_exporter": "python",
   "pygments_lexer": "ipython3",
   "version": "3.8.8"
  }
 },
 "nbformat": 4,
 "nbformat_minor": 4
}
