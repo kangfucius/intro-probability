{
 "cells": [
  {
   "cell_type": "markdown",
   "id": "prompt-mediterranean",
   "metadata": {},
   "source": [
    "# Chapter 1. Probability and Counting\n",
    "## 1.8 R -- Introduction"
   ]
  },
  {
   "cell_type": "markdown",
   "id": "technical-citizen",
   "metadata": {},
   "source": [
    "### Vectors\n",
    "To create a vector, we can use the _c_ command (to _combine_ or _concatenate_)"
   ]
  },
  {
   "cell_type": "code",
   "execution_count": 2,
   "id": "green-pulse",
   "metadata": {},
   "outputs": [
    {
     "data": {
      "text/html": [
       "23"
      ],
      "text/latex": [
       "23"
      ],
      "text/markdown": [
       "23"
      ],
      "text/plain": [
       "[1] 23"
      ]
     },
     "metadata": {},
     "output_type": "display_data"
    }
   ],
   "source": [
    "v <- c(3, 1, 4, 1, 5, 9)\n",
    "sum(v)"
   ]
  },
  {
   "cell_type": "code",
   "execution_count": 3,
   "id": "sporting-relationship",
   "metadata": {},
   "outputs": [
    {
     "data": {
      "text/html": [
       "9"
      ],
      "text/latex": [
       "9"
      ],
      "text/markdown": [
       "9"
      ],
      "text/plain": [
       "[1] 9"
      ]
     },
     "metadata": {},
     "output_type": "display_data"
    }
   ],
   "source": [
    "max(v)"
   ]
  },
  {
   "cell_type": "markdown",
   "id": "opposite-general",
   "metadata": {},
   "source": [
    "To access the _i_th entry of a vector _v_, use _v[i]_. _i_ in turn can also be a vector."
   ]
  },
  {
   "cell_type": "code",
   "execution_count": 4,
   "id": "designing-mediterranean",
   "metadata": {},
   "outputs": [
    {
     "data": {
      "text/html": [
       "<style>\n",
       ".list-inline {list-style: none; margin:0; padding: 0}\n",
       ".list-inline>li {display: inline-block}\n",
       ".list-inline>li:not(:last-child)::after {content: \"\\00b7\"; padding: 0 .5ex}\n",
       "</style>\n",
       "<ol class=list-inline><li>3</li><li>4</li><li>5</li></ol>\n"
      ],
      "text/latex": [
       "\\begin{enumerate*}\n",
       "\\item 3\n",
       "\\item 4\n",
       "\\item 5\n",
       "\\end{enumerate*}\n"
      ],
      "text/markdown": [
       "1. 3\n",
       "2. 4\n",
       "3. 5\n",
       "\n",
       "\n"
      ],
      "text/plain": [
       "[1] 3 4 5"
      ]
     },
     "metadata": {},
     "output_type": "display_data"
    }
   ],
   "source": [
    "v[c(1, 3, 5)] # access the 1st, 3rd, and 5th elements of v"
   ]
  },
  {
   "cell_type": "markdown",
   "id": "injured-information",
   "metadata": {},
   "source": [
    "Specify elements to exclude by - operator"
   ]
  },
  {
   "cell_type": "code",
   "execution_count": 5,
   "id": "swiss-packing",
   "metadata": {},
   "outputs": [
    {
     "data": {
      "text/html": [
       "<style>\n",
       ".list-inline {list-style: none; margin:0; padding: 0}\n",
       ".list-inline>li {display: inline-block}\n",
       ".list-inline>li:not(:last-child)::after {content: \"\\00b7\"; padding: 0 .5ex}\n",
       "</style>\n",
       "<ol class=list-inline><li>3</li><li>5</li><li>9</li></ol>\n"
      ],
      "text/latex": [
       "\\begin{enumerate*}\n",
       "\\item 3\n",
       "\\item 5\n",
       "\\item 9\n",
       "\\end{enumerate*}\n"
      ],
      "text/markdown": [
       "1. 3\n",
       "2. 5\n",
       "3. 9\n",
       "\n",
       "\n"
      ],
      "text/plain": [
       "[1] 3 5 9"
      ]
     },
     "metadata": {},
     "output_type": "display_data"
    }
   ],
   "source": [
    "v[-(2:4)]  # exclude 2nd to 4th elements"
   ]
  },
  {
   "cell_type": "markdown",
   "id": "korean-brain",
   "metadata": {},
   "source": [
    "### Component-wise operations\n",
    "Many operations in R are interpreted _component-wise_, e.. 1/(1:10)^2 is a compact way to get the vector $(1, \\frac{1}{2^2}, \\frac{1}{3^2}, \\cdots, \\frac{1}{10^2})$"
   ]
  },
  {
   "cell_type": "code",
   "execution_count": 3,
   "id": "surprising-inspector",
   "metadata": {},
   "outputs": [
    {
     "data": {
      "text/html": [
       "<style>\n",
       ".list-inline {list-style: none; margin:0; padding: 0}\n",
       ".list-inline>li {display: inline-block}\n",
       ".list-inline>li:not(:last-child)::after {content: \"\\00b7\"; padding: 0 .5ex}\n",
       "</style>\n",
       "<ol class=list-inline><li>1</li><li>0.25</li><li>0.111111111111111</li><li>0.0625</li><li>0.04</li><li>0.0277777777777778</li><li>0.0204081632653061</li><li>0.015625</li><li>0.0123456790123457</li><li>0.01</li></ol>\n"
      ],
      "text/latex": [
       "\\begin{enumerate*}\n",
       "\\item 1\n",
       "\\item 0.25\n",
       "\\item 0.111111111111111\n",
       "\\item 0.0625\n",
       "\\item 0.04\n",
       "\\item 0.0277777777777778\n",
       "\\item 0.0204081632653061\n",
       "\\item 0.015625\n",
       "\\item 0.0123456790123457\n",
       "\\item 0.01\n",
       "\\end{enumerate*}\n"
      ],
      "text/markdown": [
       "1. 1\n",
       "2. 0.25\n",
       "3. 0.111111111111111\n",
       "4. 0.0625\n",
       "5. 0.04\n",
       "6. 0.0277777777777778\n",
       "7. 0.0204081632653061\n",
       "8. 0.015625\n",
       "9. 0.0123456790123457\n",
       "10. 0.01\n",
       "\n",
       "\n"
      ],
      "text/plain": [
       " [1] 1.00000000 0.25000000 0.11111111 0.06250000 0.04000000 0.02777778\n",
       " [7] 0.02040816 0.01562500 0.01234568 0.01000000"
      ]
     },
     "metadata": {},
     "output_type": "display_data"
    }
   ],
   "source": [
    "1/(1:10)^2"
   ]
  },
  {
   "cell_type": "markdown",
   "id": "cathedral-malta",
   "metadata": {},
   "source": [
    "### Factorial and binomial coefficients\n",
    "We can compute $n!$ using _factorial(n)_ and $\\binom{n}{k}$ using _choose(n,k)_. "
   ]
  },
  {
   "cell_type": "code",
   "execution_count": 4,
   "id": "comparable-miracle",
   "metadata": {},
   "outputs": [
    {
     "data": {
      "text/html": [
       "1.71122452428147e+98"
      ],
      "text/latex": [
       "1.71122452428147e+98"
      ],
      "text/markdown": [
       "1.71122452428147e+98"
      ],
      "text/plain": [
       "[1] 1.711225e+98"
      ]
     },
     "metadata": {},
     "output_type": "display_data"
    }
   ],
   "source": [
    "factorial(69)"
   ]
  },
  {
   "cell_type": "code",
   "execution_count": 5,
   "id": "limiting-julian",
   "metadata": {},
   "outputs": [
    {
     "data": {
      "text/html": [
       "6"
      ],
      "text/latex": [
       "6"
      ],
      "text/markdown": [
       "6"
      ],
      "text/plain": [
       "[1] 6"
      ]
     },
     "metadata": {},
     "output_type": "display_data"
    }
   ],
   "source": [
    "choose(4,2)"
   ]
  },
  {
   "cell_type": "markdown",
   "id": "unlike-difficulty",
   "metadata": {},
   "source": [
    "### Sampling and simulation\n",
    "The _sample_ command is a useful way of drawing random samples in _R_, e.g. _n <- 10; k <- 5; sample(n,k)_ generates an ordered random sample of 5 of the numbers from 1 to 10, without replacement, and with equal probabilitie given to each number. To sample with replacment instead, just ad in _replace = TRUE_:"
   ]
  },
  {
   "cell_type": "code",
   "execution_count": 9,
   "id": "objective-concentrate",
   "metadata": {},
   "outputs": [
    {
     "data": {
      "text/html": [
       "<style>\n",
       ".list-inline {list-style: none; margin:0; padding: 0}\n",
       ".list-inline>li {display: inline-block}\n",
       ".list-inline>li:not(:last-child)::after {content: \"\\00b7\"; padding: 0 .5ex}\n",
       "</style>\n",
       "<ol class=list-inline><li>10</li><li>7</li><li>1</li><li>3</li><li>6</li></ol>\n"
      ],
      "text/latex": [
       "\\begin{enumerate*}\n",
       "\\item 10\n",
       "\\item 7\n",
       "\\item 1\n",
       "\\item 3\n",
       "\\item 6\n",
       "\\end{enumerate*}\n"
      ],
      "text/markdown": [
       "1. 10\n",
       "2. 7\n",
       "3. 1\n",
       "4. 3\n",
       "5. 6\n",
       "\n",
       "\n"
      ],
      "text/plain": [
       "[1] 10  7  1  3  6"
      ]
     },
     "metadata": {},
     "output_type": "display_data"
    }
   ],
   "source": [
    "n <- 10; k <- 5\n",
    "sample(n, k)"
   ]
  },
  {
   "cell_type": "code",
   "execution_count": 10,
   "id": "major-philadelphia",
   "metadata": {},
   "outputs": [
    {
     "data": {
      "text/html": [
       "<style>\n",
       ".list-inline {list-style: none; margin:0; padding: 0}\n",
       ".list-inline>li {display: inline-block}\n",
       ".list-inline>li:not(:last-child)::after {content: \"\\00b7\"; padding: 0 .5ex}\n",
       "</style>\n",
       "<ol class=list-inline><li>6</li><li>5</li><li>6</li><li>2</li><li>2</li></ol>\n"
      ],
      "text/latex": [
       "\\begin{enumerate*}\n",
       "\\item 6\n",
       "\\item 5\n",
       "\\item 6\n",
       "\\item 2\n",
       "\\item 2\n",
       "\\end{enumerate*}\n"
      ],
      "text/markdown": [
       "1. 6\n",
       "2. 5\n",
       "3. 6\n",
       "4. 2\n",
       "5. 2\n",
       "\n",
       "\n"
      ],
      "text/plain": [
       "[1] 6 5 6 2 2"
      ]
     },
     "metadata": {},
     "output_type": "display_data"
    }
   ],
   "source": [
    "sample(n, k, replace=TRUE)"
   ]
  },
  {
   "cell_type": "code",
   "execution_count": null,
   "id": "extra-borough",
   "metadata": {},
   "outputs": [],
   "source": []
  }
 ],
 "metadata": {
  "kernelspec": {
   "display_name": "R",
   "language": "R",
   "name": "ir"
  },
  "language_info": {
   "codemirror_mode": "r",
   "file_extension": ".r",
   "mimetype": "text/x-r-source",
   "name": "R",
   "pygments_lexer": "r",
   "version": "3.6.1"
  }
 },
 "nbformat": 4,
 "nbformat_minor": 5
}
